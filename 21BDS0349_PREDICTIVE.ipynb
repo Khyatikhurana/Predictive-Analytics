{
  "nbformat": 4,
  "nbformat_minor": 0,
  "metadata": {
    "colab": {
      "provenance": [],
      "authorship_tag": "ABX9TyPbGRGXfhnBwhFLc7tCMEPf",
      "include_colab_link": true
    },
    "kernelspec": {
      "name": "python3",
      "display_name": "Python 3"
    },
    "language_info": {
      "name": "python"
    }
  },
  "cells": [
    {
      "cell_type": "markdown",
      "metadata": {
        "id": "view-in-github",
        "colab_type": "text"
      },
      "source": [
        "<a href=\"https://colab.research.google.com/github/Khyatikhurana/Predictive-Analytics/blob/main/21BDS0349_PREDICTIVE.ipynb\" target=\"_parent\"><img src=\"https://colab.research.google.com/assets/colab-badge.svg\" alt=\"Open In Colab\"/></a>"
      ]
    },
    {
      "cell_type": "markdown",
      "source": [
        " **KHYATI KHURANA\n",
        "21BDS0349**"
      ],
      "metadata": {
        "id": "dEdPDPG4yZiH"
      }
    },
    {
      "cell_type": "code",
      "execution_count": 2,
      "metadata": {
        "colab": {
          "base_uri": "https://localhost:8080/"
        },
        "id": "KmTDWvVZyRnR",
        "outputId": "0c7e3b99-5fe8-4cb6-d4ea-6bb17097eaab"
      },
      "outputs": [
        {
          "output_type": "stream",
          "name": "stdout",
          "text": [
            "Epoch 1/10\n"
          ]
        },
        {
          "output_type": "stream",
          "name": "stderr",
          "text": [
            "/usr/local/lib/python3.10/dist-packages/keras/src/layers/core/dense.py:87: UserWarning: Do not pass an `input_shape`/`input_dim` argument to a layer. When using Sequential models, prefer using an `Input(shape)` object as the first layer in the model instead.\n",
            "  super().__init__(activity_regularizer=activity_regularizer, **kwargs)\n"
          ]
        },
        {
          "output_type": "stream",
          "name": "stdout",
          "text": [
            "\u001b[1m25/25\u001b[0m \u001b[32m━━━━━━━━━━━━━━━━━━━━\u001b[0m\u001b[37m\u001b[0m \u001b[1m1s\u001b[0m 10ms/step - loss: 7.9273 - mae: 2.7491 - val_loss: 3.9155 - val_mae: 1.8426\n",
            "Epoch 2/10\n",
            "\u001b[1m25/25\u001b[0m \u001b[32m━━━━━━━━━━━━━━━━━━━━\u001b[0m\u001b[37m\u001b[0m \u001b[1m0s\u001b[0m 3ms/step - loss: 3.0756 - mae: 1.5764 - val_loss: 1.4232 - val_mae: 0.9693\n",
            "Epoch 3/10\n",
            "\u001b[1m25/25\u001b[0m \u001b[32m━━━━━━━━━━━━━━━━━━━━\u001b[0m\u001b[37m\u001b[0m \u001b[1m0s\u001b[0m 3ms/step - loss: 1.2351 - mae: 0.9048 - val_loss: 1.0984 - val_mae: 0.8477\n",
            "Epoch 4/10\n",
            "\u001b[1m25/25\u001b[0m \u001b[32m━━━━━━━━━━━━━━━━━━━━\u001b[0m\u001b[37m\u001b[0m \u001b[1m0s\u001b[0m 3ms/step - loss: 0.9146 - mae: 0.7613 - val_loss: 0.9336 - val_mae: 0.7810\n",
            "Epoch 5/10\n",
            "\u001b[1m25/25\u001b[0m \u001b[32m━━━━━━━━━━━━━━━━━━━━\u001b[0m\u001b[37m\u001b[0m \u001b[1m0s\u001b[0m 3ms/step - loss: 0.7934 - mae: 0.7221 - val_loss: 0.8471 - val_mae: 0.7383\n",
            "Epoch 6/10\n",
            "\u001b[1m25/25\u001b[0m \u001b[32m━━━━━━━━━━━━━━━━━━━━\u001b[0m\u001b[37m\u001b[0m \u001b[1m0s\u001b[0m 4ms/step - loss: 0.7756 - mae: 0.7073 - val_loss: 0.7788 - val_mae: 0.7048\n",
            "Epoch 7/10\n",
            "\u001b[1m25/25\u001b[0m \u001b[32m━━━━━━━━━━━━━━━━━━━━\u001b[0m\u001b[37m\u001b[0m \u001b[1m0s\u001b[0m 3ms/step - loss: 0.7321 - mae: 0.7002 - val_loss: 0.7123 - val_mae: 0.6691\n",
            "Epoch 8/10\n",
            "\u001b[1m25/25\u001b[0m \u001b[32m━━━━━━━━━━━━━━━━━━━━\u001b[0m\u001b[37m\u001b[0m \u001b[1m0s\u001b[0m 3ms/step - loss: 0.5731 - mae: 0.6119 - val_loss: 0.6562 - val_mae: 0.6411\n",
            "Epoch 9/10\n",
            "\u001b[1m25/25\u001b[0m \u001b[32m━━━━━━━━━━━━━━━━━━━━\u001b[0m\u001b[37m\u001b[0m \u001b[1m0s\u001b[0m 3ms/step - loss: 0.5716 - mae: 0.6149 - val_loss: 0.6040 - val_mae: 0.6150\n",
            "Epoch 10/10\n",
            "\u001b[1m25/25\u001b[0m \u001b[32m━━━━━━━━━━━━━━━━━━━━\u001b[0m\u001b[37m\u001b[0m \u001b[1m0s\u001b[0m 3ms/step - loss: 0.5141 - mae: 0.5809 - val_loss: 0.5420 - val_mae: 0.5780\n",
            "\u001b[1m7/7\u001b[0m \u001b[32m━━━━━━━━━━━━━━━━━━━━\u001b[0m\u001b[37m\u001b[0m \u001b[1m0s\u001b[0m 8ms/step \n",
            "MLP Model MAE (Distance Prediction): 0.5780304824672698\n",
            "Epoch 1/10\n"
          ]
        },
        {
          "output_type": "stream",
          "name": "stderr",
          "text": [
            "/usr/local/lib/python3.10/dist-packages/keras/src/layers/rnn/bidirectional.py:107: UserWarning: Do not pass an `input_shape`/`input_dim` argument to a layer. When using Sequential models, prefer using an `Input(shape)` object as the first layer in the model instead.\n",
            "  super().__init__(**kwargs)\n"
          ]
        },
        {
          "output_type": "stream",
          "name": "stdout",
          "text": [
            "\u001b[1m25/25\u001b[0m \u001b[32m━━━━━━━━━━━━━━━━━━━━\u001b[0m\u001b[37m\u001b[0m \u001b[1m3s\u001b[0m 22ms/step - loss: 5712.0229 - mae: 74.9761 - val_loss: 5504.7515 - val_mae: 73.5614\n",
            "Epoch 2/10\n",
            "\u001b[1m25/25\u001b[0m \u001b[32m━━━━━━━━━━━━━━━━━━━━\u001b[0m\u001b[37m\u001b[0m \u001b[1m0s\u001b[0m 4ms/step - loss: 5625.9341 - mae: 74.4201 - val_loss: 5437.9351 - val_mae: 73.1196\n",
            "Epoch 3/10\n",
            "\u001b[1m25/25\u001b[0m \u001b[32m━━━━━━━━━━━━━━━━━━━━\u001b[0m\u001b[37m\u001b[0m \u001b[1m0s\u001b[0m 5ms/step - loss: 5585.1152 - mae: 74.1042 - val_loss: 5301.4800 - val_mae: 72.2232\n",
            "Epoch 4/10\n",
            "\u001b[1m25/25\u001b[0m \u001b[32m━━━━━━━━━━━━━━━━━━━━\u001b[0m\u001b[37m\u001b[0m \u001b[1m0s\u001b[0m 5ms/step - loss: 5431.9180 - mae: 73.1822 - val_loss: 5004.8848 - val_mae: 70.2465\n",
            "Epoch 5/10\n",
            "\u001b[1m25/25\u001b[0m \u001b[32m━━━━━━━━━━━━━━━━━━━━\u001b[0m\u001b[37m\u001b[0m \u001b[1m0s\u001b[0m 4ms/step - loss: 5016.9175 - mae: 70.3990 - val_loss: 4431.8018 - val_mae: 66.2118\n",
            "Epoch 6/10\n",
            "\u001b[1m25/25\u001b[0m \u001b[32m━━━━━━━━━━━━━━━━━━━━\u001b[0m\u001b[37m\u001b[0m \u001b[1m0s\u001b[0m 5ms/step - loss: 4258.4219 - mae: 64.9686 - val_loss: 3548.0159 - val_mae: 59.2645\n",
            "Epoch 7/10\n",
            "\u001b[1m25/25\u001b[0m \u001b[32m━━━━━━━━━━━━━━━━━━━━\u001b[0m\u001b[37m\u001b[0m \u001b[1m0s\u001b[0m 5ms/step - loss: 3263.4724 - mae: 56.7999 - val_loss: 2445.0305 - val_mae: 48.9666\n",
            "Epoch 8/10\n",
            "\u001b[1m25/25\u001b[0m \u001b[32m━━━━━━━━━━━━━━━━━━━━\u001b[0m\u001b[37m\u001b[0m \u001b[1m0s\u001b[0m 4ms/step - loss: 2119.9956 - mae: 45.3176 - val_loss: 1376.3271 - val_mae: 36.0303\n",
            "Epoch 9/10\n",
            "\u001b[1m25/25\u001b[0m \u001b[32m━━━━━━━━━━━━━━━━━━━━\u001b[0m\u001b[37m\u001b[0m \u001b[1m0s\u001b[0m 4ms/step - loss: 1090.6484 - mae: 31.5841 - val_loss: 602.7977 - val_mae: 22.7545\n",
            "Epoch 10/10\n",
            "\u001b[1m25/25\u001b[0m \u001b[32m━━━━━━━━━━━━━━━━━━━━\u001b[0m\u001b[37m\u001b[0m \u001b[1m0s\u001b[0m 5ms/step - loss: 426.0975 - mae: 18.4700 - val_loss: 202.3467 - val_mae: 12.6799\n",
            "\u001b[1m7/7\u001b[0m \u001b[32m━━━━━━━━━━━━━━━━━━━━\u001b[0m\u001b[37m\u001b[0m \u001b[1m1s\u001b[0m 50ms/step\n",
            "Bi-LSTM Model MAE (Heart Rate Prediction): 12.679872734341643\n",
            "Anonymized Data Sample:\n",
            "   Heart_Rate     Speed  Distance  Calories_Burned  Time_Spent\n",
            "0          97  4.698810  3.565950       228.635407   79.147760\n",
            "1          69  3.363478  3.670244       269.436140   53.139447\n",
            "2          74  3.482788  2.383597       292.557400   64.238604\n",
            "3          84  5.449011  3.091287       243.943462   70.847097\n",
            "4          84  5.317611  3.637238       325.835946   56.215115\n",
            "Noisy Data Sample:\n",
            "   Heart_Rate     Speed  Distance  Calories_Burned  Time_Spent\n",
            "0          97  4.698810  3.565950       229.071490   79.147760\n",
            "1          69  3.363478  3.670244       268.951179   53.139447\n",
            "2          74  3.482788  2.383597       303.684833   64.238604\n",
            "3          84  5.449011  3.091287       237.375450   70.847097\n",
            "4          84  5.317611  3.637238       326.932428   56.215115\n"
          ]
        }
      ],
      "source": [
        "import numpy as np\n",
        "import pandas as pd\n",
        "import tensorflow as tf\n",
        "from sklearn.model_selection import train_test_split\n",
        "from sklearn.preprocessing import StandardScaler\n",
        "from sklearn.metrics import mean_absolute_error\n",
        "from tensorflow.keras.models import Sequential\n",
        "from tensorflow.keras.layers import Dense, LSTM, Bidirectional\n",
        "from tensorflow.keras.optimizers import Adam\n",
        "import random\n",
        "\n",
        "# 1. Load dataset (simulated dataset)\n",
        "data = {\n",
        "    'Heart_Rate': np.random.normal(75, 10, 1000),  # Simulated heart rate\n",
        "    'Speed': np.random.normal(5, 1, 1000),         # Simulated speed in km/h\n",
        "    'Distance': np.random.normal(3, 0.5, 1000),    # Simulated distance in km\n",
        "    'Calories_Burned': np.random.normal(300, 50, 1000),  # Calories burned\n",
        "    'Time_Spent': np.random.normal(60, 10, 1000),  # Time spent in minutes\n",
        "}\n",
        "df = pd.DataFrame(data)\n",
        "\n",
        "# 2. Data Preprocessing\n",
        "# Normalize the data\n",
        "scaler = StandardScaler()\n",
        "features = df[['Heart_Rate', 'Speed', 'Calories_Burned', 'Time_Spent']]\n",
        "features_scaled = scaler.fit_transform(features)\n",
        "\n",
        "# Split dataset for training and testing\n",
        "X = features_scaled\n",
        "y_distance = df['Distance']  # Target for MLP model\n",
        "y_heart_rate = df['Heart_Rate']  # Target for Bi-LSTM\n",
        "\n",
        "X_train, X_test, y_train, y_test = train_test_split(X, y_distance, test_size=0.2, random_state=42)\n",
        "\n",
        "# 3. Model Implementation\n",
        "## MLP Model for Distance Prediction\n",
        "mlp_model = Sequential([\n",
        "    Dense(64, activation='relu', input_dim=X_train.shape[1]),\n",
        "    Dense(32, activation='relu'),\n",
        "    Dense(1)  # Predicting distance\n",
        "])\n",
        "mlp_model.compile(optimizer=Adam(), loss='mse', metrics=['mae'])\n",
        "\n",
        "# Train the MLP model\n",
        "mlp_model.fit(X_train, y_train, epochs=10, batch_size=32, validation_data=(X_test, y_test))\n",
        "\n",
        "# Make predictions using the MLP model\n",
        "y_pred_mlp = mlp_model.predict(X_test)\n",
        "# Evaluate the MLP model\n",
        "mlp_mae = mean_absolute_error(y_test, y_pred_mlp)\n",
        "print(f\"MLP Model MAE (Distance Prediction): {mlp_mae}\")\n",
        "\n",
        "## Bi-LSTM for Sequence Prediction (e.g., Heart Rate)\n",
        "# For sequence data, we need to reshape the input into a 3D array (samples, time steps, features)\n",
        "X_seq = np.array(features_scaled)\n",
        "X_seq = X_seq.reshape((X_seq.shape[0], 1, X_seq.shape[1]))  # Reshape to (samples, time steps, features)\n",
        "\n",
        "# Train-test split for Bi-LSTM\n",
        "X_train_seq, X_test_seq, y_train_seq, y_test_seq = train_test_split(X_seq, y_heart_rate, test_size=0.2, random_state=42)\n",
        "\n",
        "# Bi-LSTM Model\n",
        "bi_lstm_model = Sequential([\n",
        "    Bidirectional(LSTM(64, return_sequences=False), input_shape=(X_train_seq.shape[1], X_train_seq.shape[2])),\n",
        "    Dense(32, activation='relu'),\n",
        "    Dense(1)  # Predicting heart rate\n",
        "])\n",
        "bi_lstm_model.compile(optimizer=Adam(), loss='mse', metrics=['mae'])\n",
        "\n",
        "# Train the Bi-LSTM model\n",
        "bi_lstm_model.fit(X_train_seq, y_train_seq, epochs=10, batch_size=32, validation_data=(X_test_seq, y_test_seq))\n",
        "\n",
        "# Make predictions using the Bi-LSTM model\n",
        "y_pred_lstm = bi_lstm_model.predict(X_test_seq)\n",
        "# Evaluate the Bi-LSTM model\n",
        "lstm_mae = mean_absolute_error(y_test_seq, y_pred_lstm)\n",
        "print(f\"Bi-LSTM Model MAE (Heart Rate Prediction): {lstm_mae}\")\n",
        "\n",
        "# 4. Privacy Features (Anonymization & Pseudorandom Noise)\n",
        "def anonymize_data(df):\n",
        "    \"\"\" Anonymize data by removing user identifiers \"\"\"\n",
        "    anonymized_df = df.copy()\n",
        "    anonymized_df['Heart_Rate'] = anonymized_df['Heart_Rate'].apply(lambda x: random.randint(60, 100))\n",
        "    anonymized_df['Speed'] = anonymized_df['Speed'].apply(lambda x: random.uniform(3, 7))\n",
        "    return anonymized_df\n",
        "\n",
        "def add_noise_to_data(df):\n",
        "    \"\"\" Add pseudorandom noise to sensitive information \"\"\"\n",
        "    noisy_df = df.copy()\n",
        "    noisy_df['Calories_Burned'] = noisy_df['Calories_Burned'] + np.random.normal(0, 5, df.shape[0])  # Add noise to calories\n",
        "    return noisy_df\n",
        "\n",
        "# Apply anonymization and noise\n",
        "anonymized_data = anonymize_data(df)\n",
        "noisy_data = add_noise_to_data(anonymized_data)\n",
        "\n",
        "print(\"Anonymized Data Sample:\")\n",
        "print(anonymized_data.head())\n",
        "print(\"Noisy Data Sample:\")\n",
        "print(noisy_data.head())\n"
      ]
    },
    {
      "cell_type": "code",
      "source": [],
      "metadata": {
        "id": "wWR1TZidyWrx"
      },
      "execution_count": null,
      "outputs": []
    }
  ]
}